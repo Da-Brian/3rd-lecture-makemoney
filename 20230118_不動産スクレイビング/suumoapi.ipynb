{
 "cells": [
  {
   "cell_type": "code",
   "execution_count": 1,
   "id": "0e9ddbe4-9bb3-4bbc-a071-d83ec6dae201",
   "metadata": {},
   "outputs": [],
   "source": [
    "# !pip3 install pandas"
   ]
  },
  {
   "cell_type": "code",
   "execution_count": 2,
   "id": "c81a66c2-927e-4249-8b65-828d5d1d7b9d",
   "metadata": {},
   "outputs": [],
   "source": [
    "# !pip3 install requests"
   ]
  },
  {
   "cell_type": "code",
   "execution_count": 3,
   "id": "eb159350-8f84-4374-9da7-d0ebb19e51cc",
   "metadata": {},
   "outputs": [],
   "source": [
    "# !pip3 install BeautifulSoup4\n",
    "# web上からのスクレイビング用のライブラリ"
   ]
  },
  {
   "cell_type": "code",
   "execution_count": 4,
   "id": "b06fc8fb-b46f-4803-9839-f87706ca9bd0",
   "metadata": {},
   "outputs": [],
   "source": [
    "# !pip3 install --upgrade pip"
   ]
  },
  {
   "cell_type": "code",
   "execution_count": 5,
   "id": "da66871f-e044-41f8-a623-a416b03cbd8b",
   "metadata": {},
   "outputs": [],
   "source": [
    "# !pip3 install selenium"
   ]
  },
  {
   "cell_type": "code",
   "execution_count": 6,
   "id": "328a8800-074a-4cc9-99e1-70d219222c67",
   "metadata": {},
   "outputs": [],
   "source": [
    "# !pip3 install scrapy"
   ]
  },
  {
   "cell_type": "code",
   "execution_count": 1,
   "id": "53a561db-1a47-4240-a95c-5db4331c9402",
   "metadata": {},
   "outputs": [],
   "source": [
    "from bs4 import BeautifulSoup\n",
    "from selenium import webdriver\n",
    "from selenium.webdriver.common.by import By\n",
    "import pandas as pd\n",
    "import requests"
   ]
  },
  {
   "cell_type": "code",
   "execution_count": 2,
   "id": "e426bb8a-417f-418b-9846-8b73c8925db3",
   "metadata": {},
   "outputs": [
    {
     "name": "stdout",
     "output_type": "stream",
     "text": [
      "https://suumo.jp/jj/bukken/ichiran/JJ010FJ001/?ar=030&bs=010&ta=13&firstFlg=0&urlFlg=0&jspIdFlg=1&sc=13103&kb=1&kt=9999999&km=1&mb=0&mt=9999999&ekTjCd=&ekTjNm=&tj=0&srch_navi=1&page=1\n"
     ]
    }
   ],
   "source": [
    "url = \"https://suumo.jp/jj/bukken/ichiran/JJ010FJ001/?ar=030&bs=010&ta=13&firstFlg=0&urlFlg=0&jspIdFlg=1&sc=13103&kb=1&kt=9999999&km=1&mb=0&mt=9999999&ekTjCd=&ekTjNm=&tj=0&srch_navi=1&page={}\"\n",
    "target_url = url.format(1)\n",
    "print(target_url)"
   ]
  },
  {
   "cell_type": "code",
   "execution_count": 3,
   "id": "54de767f-511c-45e4-895d-042dea14cd4e",
   "metadata": {},
   "outputs": [],
   "source": [
    "r = requests.get(target_url)\n",
    "soup = BeautifulSoup(r.text)"
   ]
  },
  {
   "cell_type": "code",
   "execution_count": 40,
   "id": "05c943e3-f424-441b-9d03-d1dd27e26c1d",
   "metadata": {},
   "outputs": [],
   "source": [
    "contents = soup.find_all('div',class_='cassette property_unit')"
   ]
  },
  {
   "cell_type": "code",
   "execution_count": 41,
   "id": "7e722b2b-eea7-4e2f-a36a-e1f77e2d2dff",
   "metadata": {},
   "outputs": [
    {
     "data": {
      "text/plain": [
       "30"
      ]
     },
     "execution_count": 41,
     "metadata": {},
     "output_type": "execute_result"
    }
   ],
   "source": [
    "len(contents)"
   ]
  },
  {
   "cell_type": "code",
   "execution_count": 42,
   "id": "c24b5e9e-d9f3-4309-b6c6-c9220487e492",
   "metadata": {},
   "outputs": [],
   "source": [
    "content = contents[0]"
   ]
  },
  {
   "cell_type": "code",
   "execution_count": 43,
   "id": "4c4dd1e4-9b24-44f1-9a57-0732b830a2cc",
   "metadata": {},
   "outputs": [],
   "source": [
    "header = content.find('div', class_='cassette_header cassette_header--has_description js-cassette_header')\n",
    "detail = content.find('div', class_='cassette-result_detail')\n",
    "table = content.find('div', class_='cassette-result_detail_table js-cassette_result_detail_table')"
   ]
  },
  {
   "cell_type": "code",
   "execution_count": 36,
   "id": "b3b7d64c-461f-48f2-864b-08a3309a4807",
   "metadata": {},
   "outputs": [],
   "source": [
    "header = content.find('div', class_='cassette_header cassette_header--has_description js-cassette_header')\n",
    "detail = content.find('div', class_='cassette-result_detail')\n",
    "table = content.find('div', class_='cassette-result_detail_table js-cassette_result_detail_table')\n",
    "\n",
    "\n",
    "\n",
    "title = header.find('a', class_='cassette_header-title js-cassetLinkHref js-cassette_title').text\n",
    "address = detail.find_all('p')[1].text\n",
    "access = detail.find_all('p')[3].text\n",
    "handover = detail.find_all('p')[5].text\n",
    "# access = detail.find('li', class_='cassette_basic-list_item').text\n",
    "# age = detail.find('li', class_='cassette_basic-list_item').text"
   ]
  },
  {
   "cell_type": "code",
   "execution_count": 9,
   "id": "55a24689-7aee-488f-9d33-d569f4b8dbc3",
   "metadata": {},
   "outputs": [
    {
     "data": {
      "text/plain": [
       "\"class_='cassette_basic-value')\""
      ]
     },
     "execution_count": 9,
     "metadata": {},
     "output_type": "execute_result"
    }
   ],
   "source": [
    "# title = header.find('a', class_='cassette_header-title js-cassetLinkHref js-cassette_title').text\n",
    "# address = detail.find_elements(By.CLASS_NAME, \"cassette_basic-list_item\")\n",
    "# address = house_width[0].text\n",
    "# peach = detail.find_elements(By.CLASS_NAME, \"cassette_basic-list_item\")\n",
    "# peach = house_width[2].text\n",
    ", class_='cassette_basic-value')"
   ]
  },
  {
   "cell_type": "code",
   "execution_count": 10,
   "id": "18a8c910-67f3-471f-a81c-434a07fb722c",
   "metadata": {},
   "outputs": [
    {
     "data": {
      "text/plain": [
       "('ピアース麻布EAST', '港区東麻布２', '都営大江戸線/赤羽橋 徒歩4分', '2024年9月下旬予定')"
      ]
     },
     "execution_count": 10,
     "metadata": {},
     "output_type": "execute_result"
    }
   ],
   "source": [
    "title, address, access, handover"
   ]
  },
  {
   "cell_type": "code",
   "execution_count": 44,
   "id": "77f46766-706b-4b7c-b816-e252c6da54f3",
   "metadata": {},
   "outputs": [],
   "source": [
    "tr_tags = table.find_all('li')\n",
    "# tr_tag = tr_tags[0]"
   ]
  },
  {
   "cell_type": "code",
   "execution_count": 12,
   "id": "a9de8b21-c8a7-432e-8900-13c1be302400",
   "metadata": {},
   "outputs": [],
   "source": [
    "price, layout, type = tr_tag.find_all('p')"
   ]
  },
  {
   "cell_type": "code",
   "execution_count": 13,
   "id": "8b5db182-e3c5-47e3-b908-c23d9e741bc6",
   "metadata": {},
   "outputs": [
    {
     "data": {
      "text/plain": [
       "('価格未定', '1LDK…\\xa0/\\xa043.04m2', 'タイプ：F')"
      ]
     },
     "execution_count": 13,
     "metadata": {},
     "output_type": "execute_result"
    }
   ],
   "source": [
    "price.text, layout.text, type.text"
   ]
  },
  {
   "cell_type": "code",
   "execution_count": 63,
   "id": "fec8be30-628e-4d54-b9ee-39a4de4f3911",
   "metadata": {},
   "outputs": [
    {
     "name": "stdout",
     "output_type": "stream",
     "text": [
      "シティタワー虎ノ門\n",
      "港区虎ノ門３\n",
      "東京メトロ日比谷線/神谷町 徒歩2分\n",
      "2025年5月下旬予定\n",
      "1億4000万円台（予定）\n",
      "2LDK… / 70.5m2\n",
      "タイプ：70-CL\n"
     ]
    }
   ],
   "source": [
    "print(title)\n",
    "print(address)\n",
    "print(access)\n",
    "print(handover)\n",
    "print(price.text)\n",
    "print(layout.text)\n",
    "print(type.text)"
   ]
  },
  {
   "cell_type": "code",
   "execution_count": 61,
   "id": "5f4fe1b3-b81a-4dce-8c3a-34ebfe89c4bc",
   "metadata": {},
   "outputs": [],
   "source": [
    "d = {\n",
    "    'title':title,\n",
    "    'address':address,\n",
    "    'access':access,\n",
    "    'handover':handover,\n",
    "    'price':price.text,\n",
    "    'layout':layout.text,\n",
    "    'type':type.text  \n",
    "}"
   ]
  },
  {
   "cell_type": "code",
   "execution_count": 62,
   "id": "ea652955-9b5e-4d6b-8c17-3c19a999837f",
   "metadata": {},
   "outputs": [
    {
     "data": {
      "text/plain": [
       "{'title': 'シティタワー虎ノ門',\n",
       " 'address': '港区虎ノ門３',\n",
       " 'access': '東京メトロ日比谷線/神谷町 徒歩2分',\n",
       " 'handover': '2025年5月下旬予定',\n",
       " 'price': '1億4000万円台（予定）',\n",
       " 'layout': '2LDK…\\xa0/\\xa070.5m2',\n",
       " 'type': 'タイプ：70-CL'}"
      ]
     },
     "execution_count": 62,
     "metadata": {},
     "output_type": "execute_result"
    }
   ],
   "source": [
    "d"
   ]
  },
  {
   "cell_type": "code",
   "execution_count": 60,
   "id": "38aa167c-5e35-475b-bbb2-0c1a824a1442",
   "metadata": {},
   "outputs": [
    {
     "ename": "AttributeError",
     "evalue": "'NoneType' object has no attribute 'find_all'",
     "output_type": "error",
     "traceback": [
      "\u001b[1;31m---------------------------------------------------------------------------\u001b[0m",
      "\u001b[1;31mAttributeError\u001b[0m                            Traceback (most recent call last)",
      "\u001b[1;32m~\\AppData\\Local\\Temp\\ipykernel_21728\\1091255832.py\u001b[0m in \u001b[0;36m<module>\u001b[1;34m\u001b[0m\n\u001b[0;32m     17\u001b[0m     \u001b[0mhandover\u001b[0m \u001b[1;33m=\u001b[0m \u001b[0mdetail\u001b[0m\u001b[1;33m.\u001b[0m\u001b[0mfind_all\u001b[0m\u001b[1;33m(\u001b[0m\u001b[1;34m'p'\u001b[0m\u001b[1;33m)\u001b[0m\u001b[1;33m[\u001b[0m\u001b[1;36m5\u001b[0m\u001b[1;33m]\u001b[0m\u001b[1;33m.\u001b[0m\u001b[0mtext\u001b[0m\u001b[1;33m\u001b[0m\u001b[1;33m\u001b[0m\u001b[0m\n\u001b[0;32m     18\u001b[0m \u001b[1;33m\u001b[0m\u001b[0m\n\u001b[1;32m---> 19\u001b[1;33m     \u001b[0mtr_tags\u001b[0m\u001b[1;33m=\u001b[0m\u001b[0mtable\u001b[0m\u001b[1;33m.\u001b[0m\u001b[0mfind_all\u001b[0m\u001b[1;33m(\u001b[0m\u001b[1;34m'li'\u001b[0m\u001b[1;33m)\u001b[0m\u001b[1;33m\u001b[0m\u001b[1;33m\u001b[0m\u001b[0m\n\u001b[0m\u001b[0;32m     20\u001b[0m \u001b[1;33m\u001b[0m\u001b[0m\n\u001b[0;32m     21\u001b[0m     \u001b[1;32mfor\u001b[0m \u001b[0mtr_tag\u001b[0m \u001b[1;32min\u001b[0m \u001b[0mtr_tags\u001b[0m\u001b[1;33m:\u001b[0m\u001b[1;33m\u001b[0m\u001b[1;33m\u001b[0m\u001b[0m\n",
      "\u001b[1;31mAttributeError\u001b[0m: 'NoneType' object has no attribute 'find_all'"
     ]
    }
   ],
   "source": [
    "# #変数リスト\n",
    "# d_list = []\n",
    "# #全ての物件情報取得\n",
    "# contents = soup.find_all('div', class_='cassette property_unit')\n",
    "\n",
    "# #各物件情報のループ取得\n",
    "# for content in contents:\n",
    "#     #物件情報と部屋情報等\n",
    "#     header = content.find('div', class_='cassette_header cassette_header--has_description js-cassette_header')\n",
    "#     detail = content.find('div', class_='cassette-result_detail')\n",
    "#     table = content.find('div', class_='cassette-result_detail_table js-cassette_result_detail_table')\n",
    "\n",
    "#     #物件情報からの取得\n",
    "#     title = header.find('a', class_='cassette_header-title js-cassetLinkHref js-cassette_title').text\n",
    "#     address = detail.find_all('p')[1].text\n",
    "#     access = detail.find_all('p')[3].text\n",
    "#     handover = detail.find_all('p')[5].text\n",
    "\n",
    "#     tr_tags=table.find_all('li')\n",
    "\n",
    "#     for tr_tag in tr_tags:\n",
    "#         price, layout, type = tr_tag.find_all('p')\n",
    "\n",
    "#         d = {\n",
    "#         'title':title,\n",
    "#         'address':address,\n",
    "#         'access':access,\n",
    "#         'handover':handover,\n",
    "#         'price':price.text,\n",
    "#         'layout':layout.text,\n",
    "#         'type':type.text  \n",
    "#         }\n",
    "\n",
    "#         d_list.append(d)"
   ]
  },
  {
   "cell_type": "code",
   "execution_count": 151,
   "id": "5ff8cbfe-3c3b-453a-96d5-34af00ffd722",
   "metadata": {},
   "outputs": [],
   "source": [
    "#変数リスト\n",
    "d_list = []\n",
    "#全ての物件情報取得\n",
    "contents = soup.find_all('div', class_='cassette-content js-normalLink js-cassetLink js-cassette_content')\n",
    "#各物件情報のループ取得\n",
    "for content in contents:\n",
    "    #物件情報と部屋情報等\n",
    "    header = content.find('h2')\n",
    "    detail = content.find('div', class_='cassette-result_detail')\n",
    "    \n",
    "    title = header.find('a', class_='cassette_header-title js-cassetLinkHref js-cassette_title').text\n",
    "    address = detail.find_all('p')[1].text\n",
    "    access = detail.find_all('p')[3].text\n",
    "    handover = detail.find_all('p')[5].text\n",
    "    price = detail.find('span', class_='cassette_price-accent')\n",
    "    layout = detail.find('p', class_='cassette_price-description')\n",
    "\n",
    "    d = {\n",
    "    'title':title,\n",
    "    'address':address,\n",
    "    'access':access,\n",
    "    'handover':handover,\n",
    "    'price':price.text,\n",
    "    'layout':layout.text,\n",
    "    }\n",
    "\n",
    "    d_list.append(d)"
   ]
  },
  {
   "cell_type": "code",
   "execution_count": 129,
   "id": "73538687-c7a7-4f97-9f25-42f3b7198cf7",
   "metadata": {},
   "outputs": [],
   "source": [
    "from pprint import pprint"
   ]
  },
  {
   "cell_type": "code",
   "execution_count": 152,
   "id": "7d3f5b10-cfc0-44fe-a01b-d25c139ac907",
   "metadata": {},
   "outputs": [
    {
     "name": "stdout",
     "output_type": "stream",
     "text": [
      "{'access': '都営大江戸線/赤羽橋 徒歩4分',\n",
      " 'address': '港区東麻布２',\n",
      " 'handover': '2024年9月下旬予定',\n",
      " 'layout': '\\r\\n'\n",
      "           '\\t\\t\\t\\t\\t\\t\\t\\t\\t\\t\\t\\t\\t\\t\\t1LDK～2LDK\\r\\n'\n",
      "           '\\t\\t\\t\\t\\t\\t\\t\\t\\t\\t\\t\\t\\t\\t\\t\\t/\\r\\n'\n",
      "           '\\t\\t\\t\\t\\t\\t\\t\\t\\t\\t\\t\\t\\t\\t\\t31.08m2～75.62m2',\n",
      " 'price': '\\r\\n\\t\\t\\t\\t\\t\\t\\t\\t\\t\\t\\t\\t\\t\\t\\t\\t価格未定',\n",
      " 'title': 'ピアース麻布EAST'}\n",
      "\n",
      "{'access': 'ＪＲ山手線/浜松町 徒歩2分',\n",
      " 'address': '港区浜松町２',\n",
      " 'handover': '2025年3月下旬予定',\n",
      " 'layout': '\\r\\n'\n",
      "           '\\t\\t\\t\\t\\t\\t\\t\\t\\t\\t\\t\\t\\t\\t\\t1LDK～3LDK\\r\\n'\n",
      "           '\\t\\t\\t\\t\\t\\t\\t\\t\\t\\t\\t\\t\\t\\t\\t\\t/\\r\\n'\n",
      "           '\\t\\t\\t\\t\\t\\t\\t\\t\\t\\t\\t\\t\\t\\t\\t40.15m2～148.21m2',\n",
      " 'price': '\\r\\n\\t\\t\\t\\t\\t\\t\\t\\t\\t\\t\\t\\t\\t\\t\\t\\t価格未定',\n",
      " 'title': 'WORLD TOWER RESIDENCE'}\n"
     ]
    }
   ],
   "source": [
    "pprint(d_list[0])\n",
    "print()\n",
    "pprint(d_list[3])"
   ]
  },
  {
   "cell_type": "code",
   "execution_count": 154,
   "id": "91a31a13-248b-421e-a503-1cdee18755ca",
   "metadata": {},
   "outputs": [],
   "source": [
    "from time import sleep\n",
    "from bs4 import BeautifulSoup\n",
    "import requests"
   ]
  },
  {
   "cell_type": "code",
   "execution_count": 156,
   "id": "22a29fbf-c7c4-42ac-8dab-7a7e935e778b",
   "metadata": {},
   "outputs": [],
   "source": [
    "url = \"https://suumo.jp/jj/bukken/ichiran/JJ010FJ001/?ar=030&bs=010&ta=13&firstFlg=0&urlFlg=0&jspIdFlg=1&sc=13103&kb=1&kt=9999999&km=1&mb=0&mt=9999999&ekTjCd=&ekTjNm=&tj=0&srch_navi=1&page={}\"\n",
    "d_list = []"
   ]
  },
  {
   "cell_type": "code",
   "execution_count": 164,
   "id": "1512535a-5217-443d-b8b6-344977fe21a4",
   "metadata": {},
   "outputs": [
    {
     "name": "stdout",
     "output_type": "stream",
     "text": [
      "d_listの大きさ 132\n",
      "https://suumo.jp/jj/bukken/ichiran/JJ010FJ001/?ar=030&bs=010&ta=13&firstFlg=0&urlFlg=0&jspIdFlg=1&sc=13103&kb=1&kt=9999999&km=1&mb=0&mt=9999999&ekTjCd=&ekTjNm=&tj=0&srch_navi=1&page=1\n",
      "d_listの大きさ 162\n",
      "https://suumo.jp/jj/bukken/ichiran/JJ010FJ001/?ar=030&bs=010&ta=13&firstFlg=0&urlFlg=0&jspIdFlg=1&sc=13103&kb=1&kt=9999999&km=1&mb=0&mt=9999999&ekTjCd=&ekTjNm=&tj=0&srch_navi=1&page=2\n",
      "d_listの大きさ 192\n",
      "https://suumo.jp/jj/bukken/ichiran/JJ010FJ001/?ar=030&bs=010&ta=13&firstFlg=0&urlFlg=0&jspIdFlg=1&sc=13103&kb=1&kt=9999999&km=1&mb=0&mt=9999999&ekTjCd=&ekTjNm=&tj=0&srch_navi=1&page=3\n"
     ]
    }
   ],
   "source": [
    "# 情報崇徳\n",
    "for i in range(1,4):\n",
    "    print('d_listの大きさ',len(d_list))\n",
    "    target_url = url.format(i)\n",
    "    print(target_url)\n",
    "\n",
    "    #取得情報の解析\n",
    "    r = requests.get(target_url)\n",
    "    \n",
    "    sleep(1)\n",
    "    \n",
    "    soup = BeautifulSoup(r.text)\n",
    "    \n",
    "    #全ての物件情報取得\n",
    "    contents = soup.find_all('div', class_='cassette-content js-normalLink js-cassetLink js-cassette_content')\n",
    "    #各物件情報のループ取得\n",
    "    for content in contents:\n",
    "        #物件情報と部屋情報等\n",
    "        header = content.find('h2')\n",
    "        detail = content.find('div', class_='cassette-result_detail')\n",
    "\n",
    "        title = header.find('a', class_='cassette_header-title js-cassetLinkHref js-cassette_title').text\n",
    "        address = detail.find_all('p')[1].text\n",
    "        access = detail.find_all('p')[3].text\n",
    "        handover = detail.find_all('p')[5].text\n",
    "        price = detail.find('span', class_='cassette_price-accent')\n",
    "        layout = detail.find('p', class_='cassette_price-description')\n",
    "\n",
    "        d = {\n",
    "        'title':title,\n",
    "        'address':address,\n",
    "        'access':access,\n",
    "        'handover':handover,\n",
    "        'price':price.text,\n",
    "        'layout':layout.text,\n",
    "        }\n",
    "\n",
    "        d_list.append(d)"
   ]
  },
  {
   "cell_type": "code",
   "execution_count": 162,
   "id": "a7bfaa85-dd33-45f7-97c2-895142302713",
   "metadata": {},
   "outputs": [
    {
     "data": {
      "text/plain": [
       "{'title': '白金ザ・スカイ',\n",
       " 'address': '東京都港区白金１',\n",
       " 'access': '東京メトロ南北線/白金高輪 徒歩3分',\n",
       " 'handover': '2023年4月予定',\n",
       " 'price': '\\r\\n\\t\\t\\t\\t\\t\\t\\t\\t\\t\\t\\t\\t\\t\\t\\t\\t2億9500万円',\n",
       " 'layout': '\\r\\n\\t\\t\\t\\t\\t\\t\\t\\t\\t\\t\\t\\t\\t\\t\\t3LDK\\r\\n\\t\\t\\t\\t\\t\\t\\t\\t\\t\\t\\t\\t\\t\\t\\t\\t/\\r\\n\\t\\t\\t\\t\\t\\t\\t\\t\\t\\t\\t\\t\\t\\t\\t85.9m2（壁芯）'}"
      ]
     },
     "execution_count": 162,
     "metadata": {},
     "output_type": "execute_result"
    }
   ],
   "source": [
    "d_list[-1]"
   ]
  },
  {
   "cell_type": "code",
   "execution_count": null,
   "id": "47e5420f-4be9-4bd4-88f4-20bee78aedbe",
   "metadata": {},
   "outputs": [],
   "source": []
  },
  {
   "cell_type": "code",
   "execution_count": null,
   "id": "d7200c84-31da-4477-9f04-182dff05fcd3",
   "metadata": {},
   "outputs": [],
   "source": []
  },
  {
   "cell_type": "code",
   "execution_count": null,
   "id": "77af1d6d-55bb-4342-8e61-deeccefc107b",
   "metadata": {},
   "outputs": [],
   "source": []
  },
  {
   "cell_type": "code",
   "execution_count": null,
   "id": "ef55e0ff-dfe2-4b09-9962-306f29a94ead",
   "metadata": {},
   "outputs": [],
   "source": []
  },
  {
   "cell_type": "code",
   "execution_count": null,
   "id": "761390db-9442-416e-a693-8e728ba35230",
   "metadata": {},
   "outputs": [],
   "source": []
  },
  {
   "cell_type": "code",
   "execution_count": 79,
   "id": "97b69159-54ad-4e1e-8ffc-2b2bb8ccdbdf",
   "metadata": {},
   "outputs": [],
   "source": []
  },
  {
   "cell_type": "code",
   "execution_count": null,
   "id": "e9a3e8a8-504b-408f-b66e-f376d98b4ae1",
   "metadata": {},
   "outputs": [],
   "source": []
  },
  {
   "cell_type": "code",
   "execution_count": null,
   "id": "a2a0f6fe-5072-4339-9abd-8340c747a13e",
   "metadata": {},
   "outputs": [],
   "source": []
  },
  {
   "cell_type": "code",
   "execution_count": null,
   "id": "0ccce509-a11b-4900-9b1f-32cdb332658e",
   "metadata": {},
   "outputs": [],
   "source": []
  }
 ],
 "metadata": {
  "kernelspec": {
   "display_name": "Python 3 (ipykernel)",
   "language": "python",
   "name": "python3"
  },
  "language_info": {
   "codemirror_mode": {
    "name": "ipython",
    "version": 3
   },
   "file_extension": ".py",
   "mimetype": "text/x-python",
   "name": "python",
   "nbconvert_exporter": "python",
   "pygments_lexer": "ipython3",
   "version": "3.9.13"
  }
 },
 "nbformat": 4,
 "nbformat_minor": 5
}
